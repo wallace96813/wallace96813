from nine_coins import Nine_Coins

c = Nine_Coins(7)
c
print(c)
c.toss()
c
print(c)
c.toss()
c
print(c)
