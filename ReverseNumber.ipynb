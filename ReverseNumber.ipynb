{
 "cells": [
  {
   "cell_type": "code",
   "execution_count": 2,
   "id": "82173d46-667c-4371-b4e8-e289966f8e88",
   "metadata": {},
   "outputs": [
    {
     "ename": "SyntaxError",
     "evalue": "invalid syntax (<ipython-input-2-8eff467c951e>, line 2)",
     "output_type": "error",
     "traceback": [
      "\u001b[1;36m  File \u001b[1;32m\"<ipython-input-2-8eff467c951e>\"\u001b[1;36m, line \u001b[1;32m2\u001b[0m\n\u001b[1;33m    int a,r;\u001b[0m\n\u001b[1;37m        ^\u001b[0m\n\u001b[1;31mSyntaxError\u001b[0m\u001b[1;31m:\u001b[0m invalid syntax\n"
     ]
    }
   ],
   "source": [
    "int main(void)\n",
    "{\n",
    "    int a,r;\n",
    "    while(1)\n",
    "    {\n",
    "        do\n",
    "        {\n",
    "            printf(\"input an integer:\");\n",
    "            scanf(\"%d\",&a);\n",
    "        }\n",
    "        while (a<=0);\n",
    "        printf(\"the reverse is\");\n",
    "        while(a!=0)\n",
    "        {\n",
    "            r=a%10;\n",
    "            a/=10;\n",
    "            printf(\"%d\",r);\n",
    "        }\n",
    "        printf(\"\\n\\n\");\n",
    "    }\n",
    "    system(\"pause\");\n",
    "    return 0;\n",
    "    \n",
    "}"
   ]
  },
  {
   "cell_type": "code",
   "execution_count": null,
   "id": "16093791-ce2b-49a1-99a8-d74fbab42bfc",
   "metadata": {},
   "outputs": [],
   "source": []
  }
 ],
 "metadata": {
  "kernelspec": {
   "display_name": "Python 3",
   "language": "python",
   "name": "python3"
  },
  "language_info": {
   "codemirror_mode": {
    "name": "ipython",
    "version": 3
   },
   "file_extension": ".py",
   "mimetype": "text/x-python",
   "name": "python",
   "nbconvert_exporter": "python",
   "pygments_lexer": "ipython3",
   "version": "3.8.8"
  }
 },
 "nbformat": 4,
 "nbformat_minor": 5
}
